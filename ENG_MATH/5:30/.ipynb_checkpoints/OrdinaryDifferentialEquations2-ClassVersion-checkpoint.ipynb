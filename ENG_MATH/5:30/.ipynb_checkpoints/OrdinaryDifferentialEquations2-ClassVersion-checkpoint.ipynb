{
 "cells": [
  {
   "cell_type": "code",
   "execution_count": null,
   "metadata": {},
   "outputs": [],
   "source": [
    "%plot inline -w 900 -h 600 -r 150"
   ]
  },
  {
   "cell_type": "markdown",
   "metadata": {},
   "source": [
    "# Ordinary Differential Equations\n",
    "\n"
   ]
  },
  {
   "cell_type": "markdown",
   "metadata": {
    "collapsed": true
   },
   "source": [
    "## Epidemics\n",
    "Let's study a three-way **coupled** ODE. For this, we take a look at a simple model of epidemics proposed first in 1927 by Kermack and McKendrick (Proc. R. Soc. A, 115, 772 (1927)). In order to model the dynamics of populations, we assume that we have three sub-populations $S,I,R$:\n",
    "\n",
    "* $S(t)$: the number of people, who are susceptible to the epidemic (the not-yet infected)\n",
    "* $I(t)$: the number of infected people\n",
    "* $R(t)$: the number of people, who are removed from the total population - either because they have become immune or because they die\n",
    "\n",
    "For this SIR-model, we need additional parameters now to describe what happens when one population comes into contact with another. \n",
    "\n",
    "Similarly to the predator/prey model, we assume that if an infected person from I meets a susceptible person from $S$, $I$ will infect $S$. The rate at which they meet is proportional to $S*I$. Let's call this contact probability $a/N$, where $N$ is the total number of people in the population. \n",
    "\n",
    "Next, we need to say what happens to the people who become infected. Let's assume that there is a certain time period, during which they can pass on the disease, after which they either become immune or (sadly) die. This process is governed by another time constant $b$ and takes away people from $I$ and adds to $R$.\n",
    "\n",
    "Now, we need to set up the dynamics. As usual, we of course model the change in time in these populations:\n",
    "\n",
    "* $\\frac{dS}{dt}=-a/N*I*S$\n",
    "* $\\frac{dI}{dt}=a/N*I*S-b*I$\n",
    "* $\\frac{dR}{dt}=b*I$\n"
   ]
  },
  {
   "cell_type": "code",
   "execution_count": null,
   "metadata": {},
   "outputs": [],
   "source": [
    "% total population of interest: N.\n",
    "N = 1000;\n",
    "% initial number of infected and recovered individuals\n",
    "% at t=0: I0 and R0.\n",
    "I0 = 20;\n",
    "R0 = 0;\n",
    "% Everyone else, S0, is susceptible to infection initially.\n",
    "S0 = ...;\n",
    "% Contact rate, a, and mean removal rate, b\n",
    "% the contact rate is divided by the population count\n",
    "% the removal rate is given in 1/t units\n",
    "% so, if we assume days as our time unit, then 1/10 would\n",
    "% be a removal rate of 10 days, in other words, people \n",
    "% stay infectious for 10 days!\n",
    "a = .2/N;\n",
    "b = 1/10; %try also 1/20\n",
    "% A grid of time points (in days)\n",
    "t = linspace(0, 160, 160);"
   ]
  },
  {
   "cell_type": "code",
   "execution_count": null,
   "metadata": {
    "scrolled": true
   },
   "outputs": [],
   "source": [
    "% Let's define the ODE system here for the SIR equations:\n",
    "sir = @(t,X) [...];\n",
    "% Here, we need to define our initial state:\n",
    "y0 = [S0;I0;R0];\n",
    "% Now, use ode45 to integrate this over the time interval\n",
    "% to get the populations of interest\n",
    "opts = odeset('RelTol',1e-5,'AbsTol',1e-7);\n",
    "[ts,Xs] = ode45(sir,t,y0,opts);\n",
    "S = Xs(:,1); I = Xs(:,2); R = Xs(:,3);\n",
    "% plot the solutions for the SIR populations\n",
    "plot(ts,S, 'b', 'displayName','Susceptible'); hold on\n",
    "plot(ts,I, 'r', 'displayName','Infected')\n",
    "plot(ts,R, 'g', 'displayName','Removed (immune or dead)')\n",
    "xlabel('Time (in days)')\n",
    "ylabel('Number')\n",
    "ylim([0,1200])\n",
    "grid on; legend"
   ]
  },
  {
   "cell_type": "markdown",
   "metadata": {},
   "source": [
    "As an aside, if we simplify the model to **not** include the R-population, the two remaining equations become:\n",
    "\n",
    "* $\\frac{dS}{dt}=-a/N*I*S$\n",
    "* $\\frac{dI}{dt}=a/N*I*S$\n",
    "\n",
    "where we have omitted the second term, since we do not take away from the I-population to the R-population anymore.\n",
    "\n",
    "Now, this is a coupled, symmetric equation, that we can actually transform into one by realizing that ... for all time-points. Therefore:\n",
    "\n",
    "$...$\n",
    "\n",
    "And this is the logistic equation we had before. Therefore,  a simple, one-stage epidemic model is one in which both populations behave logistically."
   ]
  },
  {
   "cell_type": "markdown",
   "metadata": {
    "collapsed": true
   },
   "source": [
    "# Homogenous and particular solutions\n",
    "Let's return to our beloved, standard, linear pendulum:\n",
    "\n",
    "$ax^{''}(t)+bx^{'}(t)+cx(t)=F(t)$\n",
    "\n",
    "This is a second-order ODE with an outside function that \"drives\" the pendulum. \n",
    "\n",
    "## Homogenous ODE\n",
    "\n",
    "Now, let's take a look at the pendulum without this driving function:\n",
    "\n",
    "$ax^{''}(t)+bx^{'}(t)+cx(t)=0$\n",
    "\n",
    "We call this the **homogenous** ODE and solutions to this ODE are called **homogeneous** solutions.\n",
    "\n",
    "Let's try to solve this first, before going on. Let's try to find a homogeneous solution $x_h(t)$ and let's make things specific, so we say $a=1, b=3, c=1$. \n",
    "\n",
    "Somehow, whenever linear derivatives of some things crop up, it is always a good idea to use the good old exponential, so:\n",
    "\n",
    "$x_h(t)=qe^{rt}$\n",
    "\n",
    "Let's put this into our equation:\n",
    "\n",
    "$r^2x_h(t)+3rx_h(t)+x_h(t)=0$\n",
    "\n",
    "So:\n",
    "\n",
    "$x_h(t)(r^2+3r+1)=0$\n",
    "\n",
    "which either implies $x_h(t)=0$ (boring!), or $r^2+3r+1=0 \\rightarrow r_1=-2.618, r_2=-0.382$. \n",
    "\n",
    "$r^2+3r+1=0$ is called the characteristic polynomial of the homogenous ODE and it determines the solution possibilities. \n",
    "\n",
    "Note, that in general a polynomial can have real and complex roots. In our case, the roots are real, which means that the damping forces are much stronger than the oscillation forces and hence the system will exponentially decay. If the parameters $a,b,c$ had been different, we could have gotten complex roots and that would mean potentially oscillating functions, since $e^{it}=\\cos(t)+i\\sin(t)$\n",
    "\n",
    "So, we have two solutions here, which we can simply add together to yield:\n",
    "\n",
    "$x_h(t)=q_1e^{-2.618t}+q_2e^{-0.382t}$\n",
    "\n",
    "\n",
    "\n",
    "Now we have found a general **homogenous** solution, let's try to go further in solving the full equation. "
   ]
  },
  {
   "cell_type": "markdown",
   "metadata": {
    "collapsed": true
   },
   "source": [
    "## Theorem\n",
    "\n",
    "There is an easy-to-prove theorem that says the following:\n",
    "\n",
    "<div style=\"background-color:rgba(0, 0, 0, 0.0470588); vertical-align: middle; padding:20px 0;\">\n",
    "Suppose that $X_1(t)$ and $X_2(t)$ are two solutions to the full equation and that $x_{h1}(t)$ and $x_{h2}(t)$ are a fundamental set of solutions to the associated homogeneous differential equation, then $X_1(t)-X_2(t)$ is a solution to the homogenous equations and one can write:\n",
    "<div style=\"text-align: center; padding:20px 0;\">\n",
    "$...$\n",
    "</div>\n",
    "</div>\n",
    "\n",
    "So, what does this buy us? Well, let's imagine, we know one particular solution $x_p(t)$ to our full equation, and we also have the general solution $x(t)$ that - of course - solves the full equation as well. Then, we know that:\n",
    "\n",
    "$x(t)-x_p(t)=c_1x_{h1}(t)+c_2x_{h2}(t) \\rightarrow ...$\n",
    "\n",
    "Aha - so we know now that in order to find the general solution $x(t)$, we need to solve the homogenous equations and find .... The coefficients $c_1,c_2$ are then determined by the initial values of the ODE to make everything work out fine!\n",
    "\n",
    "## Example: finding particular solution with exponential driving force\n",
    "Now, let's come back to our full, driven ODE and let's make a choice about $F(t)$, let's say $F(t)=2e^{-t}$ - a decaying external force.\n",
    "\n",
    "$x^{''}(t)+3x^{'}(t)+x(t)=2e^{-t}$\n",
    "\n",
    "We already have the solution to the homogenous problem: $x_h(t)=q_1e^{-2.618t}+q_2e^{-0.382t}$. We now need to find one particular solution to this ODE. Because we have an exponential lurking there and differentiations don't do much to exponentials, we perhaps can assume that a particular solution should be very similar:\n",
    "\n",
    "$x_p(t)=Ae^{-t}$\n",
    "\n",
    "If we put this in, we get:\n",
    "\n",
    "$Ae^{-t}-3Ae^{-t}+Ae^{-t}=2e^{-t}\\rightarrow A=-2$\n",
    "\n",
    "\n",
    "### Making the full solution\n",
    "So, by virtue of our theorem, the full solution is:\n",
    "\n",
    "$x_h(t)+x_p(t)=q_1e^{-2.618t}+q_2e^{-0.382t}-2e^{-t}$\n",
    "\n",
    "### Solving the full ODE\n",
    "In order to solve this, we should provide some initial values. So let's choose the initial position to be $x(0)=5$ and the initial speed to be $x^{'}(0)=5$.\n",
    "\n",
    "The first condition means:\n",
    "\n",
    "$q_1+q_2-2=5$\n",
    "\n",
    "And the second condition means:\n",
    "\n",
    "$-2.618q_1-0.382q_2+2=5$\n",
    "\n",
    "$\\rightarrow q_1=-2.5376, q_2=9.5376$ and\n",
    "\n",
    "$x(t)=-2.5376e^{-2.618t}+9.5376e^{-0.382t}-2e^{-t}$"
   ]
  },
  {
   "cell_type": "code",
   "execution_count": null,
   "metadata": {},
   "outputs": [],
   "source": [
    "%plot inline -w 900 -h 600 -r 150\n",
    "t = linspace(0,10,1000);\n",
    "plot(t,-2.5376*exp(-2.618*t)+9.5376*exp(-0.382*t)-2*exp(-t),'DisplayName','position'); hold on\n",
    "plot(t,-2.618*(-2.5376)*exp(-2.618*t)+(-0.382)*9.5376*exp(-0.382*t)+2*exp(-t),'DisplayName','velocity')\n",
    "grid on; legend"
   ]
  },
  {
   "cell_type": "markdown",
   "metadata": {},
   "source": [
    "## Finding a particular solution: the general case\n",
    "If we change the driving function to something else, then we should also change our guess of the particular solution. In general:\n",
    "\n",
    "* if the driving function is exponential, we guess $x_p(t)=A*e^{-t}$\n",
    "* if it is periodic, we guess $x_p(t)=A*\\sin(t)+B*\\cos(t)$\n",
    "* if it is a polynomial of degree $N$, we guess $x_p(t)=\\sum_{i=0}^{N}A_i t^i$\n",
    "\n",
    "If the driving function is none of these, we need to revert to other techniques that involve explicit integration of the function!\n",
    "\n",
    "## Example: periodic driving force\n",
    "\n",
    "Let's change to a periodic force:\n",
    "\n",
    "$x^{''}(t)+3*x^{'}(t)+x(t)=\\sin(t)$\n",
    "\n",
    "So, we assume:\n",
    "\n",
    "$x_p(t)=A*\\sin(t)+B*\\cos(t)$\n",
    "\n",
    "If we put this in, we get:\n",
    "\n",
    "$-A*\\sin(t)-B*\\cos(t)+3*A*\\sin(t)-3*B*\\cos(t)+A*\\sin(t)+B*\\cos(t)=\\sin(t) \\rightarrow A*\\sin(t)+B*\\cos(t)=\\sin(t)$\n",
    "\n",
    "In general, all $\\sin$ and all $\\cos$ coefficients need to be equal. So: $A=1$ and $B=0$ (note, that normally, things do not cancel out so nicely!!).\n",
    "\n",
    "\n",
    "### Making the full solution\n",
    "So, by virtue of our theorem, the full solution is:\n",
    "\n",
    "$x_h(t)+x_p(t)=q_1*e^{-2.618t}+q_2*e^{-0.382t}+\\sin(t)$\n",
    "\n",
    "\n",
    "### Solving the full ODE\n",
    "With the same initial values, $x(0)=5$ and $x^{'}(0)=5$:\n",
    "\n",
    "The first condition means:\n",
    "\n",
    "$q_1+q_2=5$\n",
    "\n",
    "And the second condition means:\n",
    "\n",
    "$-2.618*q_1-0.382*q_2+1=5$\n",
    "\n",
    "$\\rightarrow q_1=-2.6431, q_2=7.6431$ and\n",
    "\n",
    "$x(t)=-2.1959*e^{-2.618t}+7.6431*e^{-0.382t}+\\sin(t)$\n",
    "\n"
   ]
  },
  {
   "cell_type": "code",
   "execution_count": null,
   "metadata": {},
   "outputs": [],
   "source": [
    "t = linspace(0,10,1000);\n",
    "\n",
    "plot(t,-2.6431*exp(-2.618*t)+7.6431*exp(-0.382*t)+sin(t),'DisplayName','position'); hold on\n",
    "plot(t,-2.618*(-2.6431)*exp(-2.618*t)+(-0.382)*7.6431*exp(-0.382*t)+cos(t),'DisplayName','velocity')\n",
    "grid on; legend"
   ]
  },
  {
   "cell_type": "markdown",
   "metadata": {},
   "source": [
    "## Homogenous solution: complex roots\n",
    "\n",
    "As stated above, by changing the parameters of our equation, we can get imaginary roots. So let's make the pull-back force much stronger:\n",
    "\n",
    "$r^2*x_h(t)+3*r*x_h(t)+10*x_h(t)=0$\n",
    "\n",
    "So:\n",
    "\n",
    "$x_h(t)*(r^2+3*r+10)=0$\n",
    "\n",
    "which either implies $x_h(t)=0$ (again boring!), or $r^2+3*r+10=0 \\rightarrow r_1=-1.5000 + 2.7839i, r_2=-1.5000 - 2.7839i$. Rearranging terms, we get $e^{-1.5t}(e^{2.7839it}+e^{-2.7839it})=2e^{-1.5t}\\cos(2.7839t)$.\n",
    "\n",
    "In general, then we also can do $\\sin$-functions as the solutions to the homogenous equations. In fact, we have a full homogeneous solution as:\n",
    "\n",
    "$x_h(t)=e^{-1.5t}(q_1*\\sin(2.7839t)+q_2*\\cos(2.7839t))$\n",
    "\n",
    "## Example: exponential driving force with complex roots\n",
    "\n",
    "Let's chose the driving function to be exponential again:\n",
    "\n",
    "$x^{''}(t)+3*x^{'}(t)+10*x(t)=e^{-t}$\n",
    "\n",
    "and assume that our solution is of the same kind:\n",
    "\n",
    "$x_p(t)=A*e^{-t}$\n",
    "\n",
    "If we put this in, we get:\n",
    "\n",
    "$A*e^{-t}-3*A*e^{-t}+10*A*e^{-t}=2*e^{-t}\\rightarrow A=0.25$\n",
    "\n",
    "### Making the full solution\n",
    "So, by virtue of our theorem, the full solution is:\n",
    "\n",
    "$x_h(t)+x_p(t)=e^{-1.5t}(q_1*\\sin(2.7839t)+q_2*\\cos(2.7839t))+0.25e^{-t}$\n",
    "\n",
    "### Solving the full ODE\n",
    "Let's solve this for the same initial position $x(0)=5$ and initial speed of $x^{'}(0)=5$.\n",
    "\n",
    "The first condition means:\n",
    "\n",
    "$q_2+0.25=5$\n",
    "\n",
    "And the second condition means:\n",
    "\n",
    "$-1.5*(q_2)+2.7839*q_1-0.25=5$\n",
    "\n",
    "$\\rightarrow q_1=4.4452, q_2=4.7500$ and\n",
    "\n",
    "$x(t)=e^{-1.5t}(4.4452*\\sin(2.7839t)+4.7500*\\cos(2.7839t))+0.25e^{-t}$"
   ]
  },
  {
   "cell_type": "code",
   "execution_count": null,
   "metadata": {},
   "outputs": [],
   "source": [
    "t = linspace(0,5,1000);\n",
    "y = exp(-1.5*t).*(4.4452*sin(2.7839*t)+4.7500*cos(2.7839*t))+0.25*exp(-t);\n",
    "yp = -1.5*exp(-1.5*t).*(4.4452*sin(2.7839*t)+4.7500*cos(2.7839*t))+exp(-1.5*t).*(2.7839*4.4452*cos(2.7839*t)-2.7839*4.7500*sin(2.7839*t))-0.25*exp(-t);\n",
    "plot(t,y,'DisplayName','position');hold on\n",
    "plot(t,yp,'DisplayName','speed')\n",
    "plot(t,y-0.25*exp(-t),'DisplayName','homogenous solution')\n",
    "grid on;legend\n"
   ]
  },
  {
   "cell_type": "markdown",
   "metadata": {},
   "source": [
    "Note the slight difference in shape between the solution with the external periodic driving force and the \"internal\", homogenous solution!"
   ]
  },
  {
   "cell_type": "markdown",
   "metadata": {},
   "source": [
    "## Chaos\n",
    "Let's start with a very similar system to the pendulum that we had before:\n",
    "\n",
    "$\\frac{d^2 x}{dt^2}+k*\\frac{dx}{dt}+x^3=F*\\cos{t}$\n",
    "\n",
    "The first term is simply the standard force term, the second term comes from friction.\n",
    "\n",
    "For the two other terms, we have included two effects: first of all, we have introduced a non-linear term that indicates that some returning force of the pendulum is non-linearly dependent on the angle. One way to think about this is to imagine that we hook up the pendulum to a spring that dampens the oscillation - if the spring is a \"simple\" spring, the returning force will be linearly dependent on x, but for \"realistic\" springs a non-linear dependency is a better model. Second, we now have an external force that drives our pendulum. We introduce this as an oscillating force."
   ]
  },
  {
   "cell_type": "code",
   "execution_count": null,
   "metadata": {},
   "outputs": [],
   "source": [
    "% these parameters are the ones studied by Ueda\n",
    "k = 0.05;\n",
    "F = 0.5;\n",
    "\n",
    "% define the UEDA ODE\n",
    "chaosODE = @(t, X) [...];\n",
    "\n",
    "% initial values: angle = 1, speed = 0\n",
    "% since there is an outside force, the system will move!\n",
    "x0=[1,0];\n",
    "% time-points to calculate\n",
    "t=linspace(0,1000,10001);\n",
    "\n",
    "% integrate system and save solutions\n",
    "[ts,Xs] = ode45(chaosODE,t,x0,opts);\n",
    "\n",
    "% plot the phase diagram of angle versus speed\n",
    "a = Xs(:,1); v = Xs(:,2);\n",
    "plot(a,v,'r'); \n",
    "xlabel('angle'); ylabel('speed')\n",
    "grid on\n"
   ]
  },
  {
   "cell_type": "markdown",
   "metadata": {},
   "source": [
    "As we can see, the solution is not periodic and the orbit never settles. This means that the system's behavior is erratic.\n",
    "\n",
    "This chaotic behavior can also be seen in the evolution of the speed and the angle over time:"
   ]
  },
  {
   "cell_type": "code",
   "execution_count": null,
   "metadata": {},
   "outputs": [],
   "source": [
    "figure;\n",
    "plot(t(1:500),a(1:500),'r','displayname','angle'); hold on\n",
    "plot(t(1:500),v(1:500),'b','displayname','speed'); hold on\n",
    "grid on; legend;\n",
    "xlabel('time')"
   ]
  },
  {
   "cell_type": "markdown",
   "metadata": {},
   "source": [
    "In order to visualize this even further, we can integrate the system for a much longer time and then plot a few snapshots of the system into a scatter plot."
   ]
  },
  {
   "cell_type": "code",
   "execution_count": null,
   "metadata": {},
   "outputs": [],
   "source": [
    "% much longer time!\n",
    "t = linspace(0, 2*pi*10000, 50000001);\n",
    "\n",
    "% integrate system and save solutions\n",
    "[ts,Xs] = ode45(chaosODE,t,x0,opts);\n",
    "\n",
    "% plot the phase diagram of angle versus speed\n",
    "a = Xs(:,1); v = Xs(:,2);\n",
    "scatter(a(1:300:end),v(1:300:end),'r'); \n",
    "xlabel('angle'); ylabel('speed')\n",
    "grid on"
   ]
  },
  {
   "cell_type": "markdown",
   "metadata": {},
   "source": [
    "This picture shows the chaotic nature of the system. Note, that \"chaotic\" in this case does not mean \"non-deterministic\". In fact, the equation is not at all stochastic in nature - there is no \"random\" component in the definition of the ODE! \n",
    "\n",
    "In addition, the shape you are seeing above here is characteristic of that ODE's solutions and will never be left by the speed/angle combinations. We call this shape an \"attractor\".\n",
    "\n",
    "The insight that determinism and chaotic behavior are independent properties of dynamic systems has led to a very fundamental rethinking of our understanding of such systems - the most famous example being the butterfly that causes a hurricane!\n",
    "\n",
    "Before we go on, can we make this system non-chaotic? Let's try a few things:"
   ]
  },
  {
   "cell_type": "code",
   "execution_count": null,
   "metadata": {},
   "outputs": [],
   "source": [
    "%plot inline -w 1500 -h 1500 -r 150\n",
    "% change the parameters\n",
    "ks = linspace(0,0.1,5);\n",
    "Fs = linspace(0,15,6);\n",
    "\n",
    "% initial values: angle = 1, speed = 0\n",
    "% since there is an outside force, the system will move!\n",
    "x0=[1,0];\n",
    "% time-points to calculate\n",
    "t=linspace(0,1000,10001);\n",
    "\n",
    "% integrate system and save solutions\n",
    "figure\n",
    "% counter for subplots\n",
    "sc = 0;\n",
    "for k=ks\n",
    "    for F=Fs\n",
    "        sc=sc+1;\n",
    "        subplot(5,6,sc)\n",
    "        % integrate system and save solutions\n",
    "        % define the UEDA ODE\n",
    "        chaosODEs = @(t, X) [...];\n",
    "        [ts,Xs] = ode45(chaosODEs,t,x0,opts);\n",
    "        plot(Xs(:,1),Xs(:,2))\n",
    "        xlim([-7,7])\n",
    "        ylim([-7,7])\n",
    "        grid on\n",
    "        title(sprintf('k = %.3f, F = %.3f',k,F))\n",
    "    end\n",
    "end"
   ]
  },
  {
   "cell_type": "markdown",
   "metadata": {},
   "source": [
    "## More Chaos\n",
    "Alright, now that we've encountered chaotic behavior in a rather \"simple\" system, let's check one of the more famous systems that is associated with this phenomenon.\n",
    "\n",
    "In the 1960s, Edward Lorenz was investigating models of weather processes. These were (and are) often modeled as highly coupled, dynamic systems. \n",
    "\n",
    "Just to scare people, the very, very simplified equations that were used as the start are derived from thinking about convection, that is, the distribution of temperature in a volume. This was already studied by Rayleigh in the early 1900s, assuming a layer of fluid, in which the top is held at a constant temperature difference from the bottom. Assuming, that motion in the fluid can only occur parallel to the x-z-plane, one can then write the following two partial derivative equations:\n",
    "\n",
    "* $\\frac{\\partial}{\\partial t}\\nabla^2\\psi=-\\frac{\\partial(\\psi,{\\nabla}^2\\psi)}{\\partial(x,z)}+\\nu{\\nabla}^4\\psi+g\\alpha\\frac{\\partial \\theta}{\\partial x}$\n",
    "* $\\frac{\\partial}{\\partial t}\\theta=-\\frac{\\partial(\\psi,\\theta)}{\\partial(x,z)}+\\frac{\\Delta T}{H}\\frac{\\partial \\psi}{\\partial x}+\\kappa{\\nabla}^2\\theta$\n",
    "\n",
    "Here, $\\psi$ is a stream function for two-dimensional motion, $\\theta$ is the departure of temperature from the temperature in the state of no convection (the steady state), $g$ is the gravitational constant, $\\alpha$ the coefficient of thermal expansion, $\\nu$ the kinematic viscosity, and $\\kappa$ the thermal conductivity of the liquid.\n",
    "\n",
    "In order to study these rather intricate equations, Lorenz first simplified these to a set of three equations, by assuming that it is possible to write the solutions $\\psi,\\theta$ as oscillations in x-z:  \n",
    "\n",
    "* $\\psi \\approx X(t)\\sin(x)\\sin(z)$\n",
    "* $\\theta \\approx Y(t)\\cos(x)\\sin(z)-Z(t)sin(z)$\n",
    "\n",
    "This yields the now-famous Lorenz equations, relating three convection states $X(t),Y(t),Z(t)$ with three parameters $s,r,b$ to each other. The equations are as follows:\n",
    "\n",
    "* $\\frac{dX}{dt}=s*(Y-X)$\n",
    "* $\\frac{dY}{dt}=r*X - Y - X*Z$\n",
    "* $\\frac{dZ}{dt}=X*Y - b*Z$\n",
    "\n",
    "In this system, $X$ describes the intensity of the convection, $Y$ describes the temperature difference between rising and falling currents, and $Z$ describes the distortion of the vertical temperature profile from linear (i.e., the steady-state). $s=\\frac{\\nu}{\\kappa}$ is the Prandtl number, $r$ is related to the Rayleigh number that chacterizes turbulent flow, and $b=2.667$.\n",
    "\n",
    "This set of equations is only accessible numerically, and in addition one should not forget is only a very crude approximation of the original partial derivative equation!\n",
    "\n",
    "In any case, Lorenz proceeded to test solutions to this on a computer. One day, after the computer had printed out a set of solutions, Lorenz wanted to continue at a previous time-point. Not wanting to re-run the whole simulation (which had taken days to compute!), he entered the rough numbers from the print-out and re-started the calculation at that time. When he came back, the solution to the ODEs had diverged drastically, even though the initial values were very close together. When investigating the properties of this system in more detail, he found out that arbitrarily-close initial solutions would end up at arbitrarily-far points later in phase space - the Butterfly effect!\n",
    "\n",
    "In the following, we will implement this system and show the evolution of the three system parameters over time."
   ]
  },
  {
   "cell_type": "code",
   "execution_count": null,
   "metadata": {},
   "outputs": [],
   "source": [
    "%plot native\n",
    "s=10; r=28; b=2.667;\n",
    "lorenz = @(t,X) [...];\n",
    "    \n",
    "% initial parameters\n",
    "X0 = [0; 1; 1.05];\n",
    "% time for integration\n",
    "t = linspace(0,100,10000);\n",
    "% integrate and save solution\n",
    "[ts,Xs] = ode45(lorenz,t,X0,opts);\n",
    "plot3(Xs(:,1), Xs(:,2), Xs(:,3), 'LineWidth',0.5)\n",
    "xlabel('X Axis')\n",
    "ylabel('Y Axis')\n",
    "zlabel('Z Axis')\n",
    "title('Lorenz Attractor')\n",
    "grid on"
   ]
  },
  {
   "cell_type": "markdown",
   "metadata": {},
   "source": [
    "As we can see, the characteristic two lobes of the famous attractor appear. The system will forever loop through these lobes, never entering a stationary, repeating orbit. \n",
    "\n",
    "Although the Butterfly-effect states that the two states are \"far\" away, it should be noted that the solution-space itself is bounded! Hence, the solutions themselves occupy only a certain part of the space - the attractor \"volume\".\n",
    "\n",
    "Let's say that these equations are a good model of weather (after all, convection of temperature is a big part of weather mechanics). Now, we have seen that initial values tend to get spread out after time. So, how close do they need to be in order for us to get reliable prediction accuracies? \n",
    "\n",
    "For this, let's assume that reliable predictions for four days of weather would be possible with an initial accuracy from 1000 weather stations evenly distributed over the earth's surface. \n",
    "\n",
    "Then the \"chaos\" inherent in these equations tell us that an equally reliable forecast for 11 days the number of required weather stations increases to 100 million stations. And for predictions over a whole month, an amount of 10^20 stations would be needed - one per 5 square millimeters of earth surface!"
   ]
  },
  {
   "cell_type": "code",
   "execution_count": null,
   "metadata": {},
   "outputs": [],
   "source": []
  }
 ],
 "metadata": {
  "kernelspec": {
   "display_name": "Matlab",
   "language": "matlab",
   "name": "matlab"
  },
  "language_info": {
   "codemirror_mode": "octave",
   "file_extension": ".m",
   "help_links": [
    {
     "text": "MetaKernel Magics",
     "url": "https://github.com/calysto/metakernel/blob/master/metakernel/magics/README.md"
    }
   ],
   "mimetype": "text/x-octave",
   "name": "matlab",
   "version": "0.16.1"
  }
 },
 "nbformat": 4,
 "nbformat_minor": 2
}
